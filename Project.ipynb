{
  "nbformat": 4,
  "nbformat_minor": 0,
  "metadata": {
    "accelerator": "GPU",
    "colab": {
      "name": "Project.ipynb",
      "provenance": [],
      "include_colab_link": true
    },
    "kernelspec": {
      "name": "python3",
      "display_name": "Python 3"
    }
  },
  "cells": [
    {
      "cell_type": "markdown",
      "metadata": {
        "id": "view-in-github",
        "colab_type": "text"
      },
      "source": [
        "<a href=\"https://colab.research.google.com/github/SwayamParida/handwritten-math-exp-recognition/blob/master/Project.ipynb\" target=\"_parent\"><img src=\"https://colab.research.google.com/assets/colab-badge.svg\" alt=\"Open In Colab\"/></a>"
      ]
    },
    {
      "cell_type": "code",
      "metadata": {
        "colab_type": "code",
        "id": "MzZIZRy8mj9u",
        "outputId": "4b662e4a-9230-4d7c-ceb3-aee8bd8d96dc",
        "colab": {
          "base_uri": "https://localhost:8080/",
          "height": 34
        }
      },
      "source": [
        "from google.colab import drive\n",
        "drive.mount('/content/drive', force_remount=True)"
      ],
      "execution_count": 22,
      "outputs": [
        {
          "output_type": "stream",
          "text": [
            "Mounted at /content/drive\n"
          ],
          "name": "stdout"
        }
      ]
    },
    {
      "cell_type": "code",
      "metadata": {
        "colab_type": "code",
        "id": "QI85gR0RV1jE",
        "colab": {}
      },
      "source": [
        "import os\n",
        "from collections import defaultdict\n",
        "from PIL import Image\n",
        "from skimage import feature\n",
        "from sklearn import linear_model, model_selection, preprocessing\n",
        "import numpy as np\n",
        "import matplotlib.pyplot as plt\n",
        "import torch\n",
        "from torch import nn, optim, utils\n",
        "from torchvision import datasets, models, transforms\n",
        "\n",
        "plt.rcParams['image.interpolation'] = 'nearest'\n",
        "%matplotlib inline"
      ],
      "execution_count": 0,
      "outputs": []
    },
    {
      "cell_type": "markdown",
      "metadata": {
        "colab_type": "text",
        "id": "36JRp90oV1jT"
      },
      "source": [
        "## Atomic Symbol Dataset"
      ]
    },
    {
      "cell_type": "markdown",
      "metadata": {
        "colab_type": "text",
        "id": "uZK3jzAVV1jV"
      },
      "source": [
        "The atomic symbol dataset is contained in the directory referenced by the relative filepath stored in `ATOMIC_SYMBOL_DATASET_DIR`. The dataset contains a subdirectory per math symbol with the directory name corresponding to the symbol name. Each subdirectory contains JPG images of the handwritten symbols that serve as training examples for that symbol class."
      ]
    },
    {
      "cell_type": "code",
      "metadata": {
        "colab_type": "code",
        "id": "NsnoAHhlmKvJ",
        "outputId": "7bd0270b-4fab-42c7-c3e4-800cd0fe3b52",
        "colab": {
          "base_uri": "https://localhost:8080/",
          "height": 51
        }
      },
      "source": [
        "%cd drive/My\\ Drive/cs231n/project/data\n",
        "!cp symbol-data.zip /content/\n",
        "%cd /content/\n",
        "!unzip -nq symbol-data.zip"
      ],
      "execution_count": 0,
      "outputs": [
        {
          "output_type": "stream",
          "text": [
            "/content/drive/My Drive/cs231n/project/data\n",
            "/content\n"
          ],
          "name": "stdout"
        }
      ]
    },
    {
      "cell_type": "code",
      "metadata": {
        "colab_type": "code",
        "id": "DN31FFF2V1jW",
        "colab": {}
      },
      "source": [
        "ATOMIC_SYMBOL_DATASET_DIR = '/content/extracted_images'"
      ],
      "execution_count": 0,
      "outputs": []
    },
    {
      "cell_type": "code",
      "metadata": {
        "colab_type": "code",
        "id": "FBx0JjBxwMGO",
        "colab": {}
      },
      "source": [
        "symbol_dataset = datasets.ImageFolder(ATOMIC_SYMBOL_DATASET_DIR, \n",
        "                                      transform=transforms.ToTensor())"
      ],
      "execution_count": 0,
      "outputs": []
    },
    {
      "cell_type": "markdown",
      "metadata": {
        "colab_type": "text",
        "id": "hV-nREOeV1j6"
      },
      "source": [
        "Getting a feel for the dataset"
      ]
    },
    {
      "cell_type": "code",
      "metadata": {
        "colab_type": "code",
        "id": "qSzgDfHjV1j7",
        "outputId": "620f1175-8ebb-4ad9-b680-170d9ba0d701",
        "colab": {
          "base_uri": "https://localhost:8080/",
          "height": 301
        }
      },
      "source": [
        "random_index = np.random.choice(len(symbol_dataset))\n",
        "sample_img, sample_img_label = symbol_dataset[random_index]\n",
        "sample_img = transforms.ToPILImage()(sample_img).convert(mode='L')\n",
        "sample_img_label = symbol_dataset.classes[sample_img_label]\n",
        "_ = plt.imshow(sample_img, cmap='Greys_r')\n",
        "print(f'Symbol: {sample_img_label}')\n",
        "print(f'Image dimensions: {sample_img.size}')"
      ],
      "execution_count": 4,
      "outputs": [
        {
          "output_type": "stream",
          "text": [
            "Symbol: pi\n",
            "Image dimensions: (45, 45)\n"
          ],
          "name": "stdout"
        },
        {
          "output_type": "display_data",
          "data": {
            "image/png": "[encoded data removed]",
            "text/plain": [
              "<Figure size 432x288 with 1 Axes>"
            ]
          },
          "metadata": {
            "tags": [],
            "needs_background": "light"
          }
        }
      ]
    },
    {
      "cell_type": "code",
      "metadata": {
        "colab_type": "code",
        "id": "1Hcd8loK12GM",
        "outputId": "d76fe1c4-36a1-4328-c2b1-50fd31b7a860",
        "colab": {
          "base_uri": "https://localhost:8080/",
          "height": 51
        }
      },
      "source": [
        "print(f'Number of examples: {len(symbol_dataset)}')\n",
        "print(f'Number of classes: {len(symbol_dataset.classes)}')"
      ],
      "execution_count": 5,
      "outputs": [
        {
          "output_type": "stream",
          "text": [
            "Number of examples: 375974\n",
            "Number of classes: 82\n"
          ],
          "name": "stdout"
        }
      ]
    },
    {
      "cell_type": "markdown",
      "metadata": {
        "id": "oMMa6U73jvJ_",
        "colab_type": "text"
      },
      "source": [
        "Distribution of labels in the dataset"
      ]
    },
    {
      "cell_type": "code",
      "metadata": {
        "id": "8zQtFbxAj2wP",
        "colab_type": "code",
        "outputId": "5da8bcd3-3c15-4f2a-941d-47454341b4b1",
        "colab": {
          "base_uri": "https://localhost:8080/",
          "height": 651
        }
      },
      "source": [
        "label_indices, label_counts = np.unique(symbol_dataset.targets, return_counts=True)\n",
        "idx_to_class = {idx: label for (label, idx) in symbol_dataset.class_to_idx.items()}\n",
        "plt.figure(figsize=[15, 10])\n",
        "_ = plt.bar(np.arange(len(label_indices)), label_counts, align='edge',\n",
        "            tick_label=[idx_to_class[idx] for idx in label_indices]\n",
        "           )\n",
        "_ = plt.xticks(rotation=90)"
      ],
      "execution_count": 0,
      "outputs": [
        {
          "output_type": "display_data",
          "data": {
            "image/png": "[encoded data removed]",
            "text/plain": [
              "<Figure size 1080x720 with 1 Axes>"
            ]
          },
          "metadata": {
            "tags": [],
            "needs_background": "light"
          }
        }
      ]
    },
    {
      "cell_type": "markdown",
      "metadata": {
        "id": "k9JQ7PUlyXH_",
        "colab_type": "text"
      },
      "source": [
        "## CROHME 2014 Dataset\n"
      ]
    },
    {
      "cell_type": "markdown",
      "metadata": {
        "id": "tV3a-rwtykHO",
        "colab_type": "text"
      },
      "source": [
        "The CROHME 2014 Dataset for Task 2 consists of 310 x 310 images with entire expressions. These images shall be the inputs to our final model."
      ]
    },
    {
      "cell_type": "code",
      "metadata": {
        "id": "WliHZRRVyzy0",
        "colab_type": "code",
        "colab": {}
      },
      "source": [
        "%cd drive/My\\ Drive/cs231n/project/data\n",
        "!cp exp-train-data-labels.zip /content/\n",
        "!cp exp-train-data-imgs.zip /content/\n",
        "!cp convertInkmlToImg.py /content\n",
        "%cd /content/\n",
        "!unzip -nq exp-train-data-labels.zip\n",
        "!mv Train/ exp-train\n",
        "!unzip -nq exp-train-data-imgs.zip\n",
        "!python3 convertInkmlToImg.py Train/INKMLs/Train_2014/ 300 5 exp-train/IMGS/\n",
        "%cd exp-train/IMGS\n",
        "!mv data_png_Train_2014/* .\n",
        "!rm -rf data_png_Train_2014\n",
        "%cd ../LGs/\n",
        "!mv Train2014_LG/train_LG_Obj/* .\n",
        "!rm -rf Test2012_LG Test2013_LG Train2014_LG"
      ],
      "execution_count": 0,
      "outputs": []
    },
    {
      "cell_type": "code",
      "metadata": {
        "id": "ny53JoZM9LHx",
        "colab_type": "code",
        "colab": {}
      },
      "source": [
        "class ExpressionDataset(utils.data.Dataset):\n",
        "  def __init__(self, img_dir, label_dir):\n",
        "    self.img_dir = img_dir\n",
        "    self.label_dir = label_dir\n",
        "    self.imgs = [f.strip('.png') for f in os.listdir(self.img_dir) if '.png' in f]\n",
        "    self.lgs = [f.strip('.lg') for f in os.listdir(self.label_dir) if '.lg' in f]\n",
        "    # Take intersection of images and labels\n",
        "    self.index = [(os.path.join(img_dir, f'{f}.png'), os.path.join(label_dir, f'{f}.lg'))\n",
        "                  for f in set(self.imgs) & set(self.lgs)]\n",
        "\n",
        "  def __len__(self):\n",
        "    return len(self.index)\n",
        "\n",
        "  def __getitem__(self, idx):\n",
        "    if idx >= len(self.index):\n",
        "      raise IndexError\n",
        "    cur_img_fp, cur_label_fp = self.index[idx]\n",
        "    cur_img = Image.open(cur_img_fp).convert('RGB')\n",
        "    cur_label = self.lg_symbols(cur_label_fp)\n",
        "    return cur_img, cur_label\n",
        "  \n",
        "  def transform(self, symbol):\n",
        "      symbol = symbol.strip('\\\\')\n",
        "      if symbol == 'COMMA': symbol = ','\n",
        "      return symbol\n",
        "\n",
        "  def lg_symbols(self, lg_file):\n",
        "    with open(lg_file) as f:\n",
        "      symbols = []\n",
        "      for line in f:\n",
        "        if line[0] == '#': continue\n",
        "        if line[0] == '\\n': break\n",
        "        symbols += [self.transform(line.split(', ')[2])]\n",
        "      return symbols"
      ],
      "execution_count": 0,
      "outputs": []
    },
    {
      "cell_type": "code",
      "metadata": {
        "id": "ZrrQmHEODRT8",
        "colab_type": "code",
        "colab": {}
      },
      "source": [
        "EXP_IMG_DIR = '/content/exp-train/IMGS'\n",
        "EXP_LG_DIR = '/content/exp-train/LGs'"
      ],
      "execution_count": 0,
      "outputs": []
    },
    {
      "cell_type": "code",
      "metadata": {
        "id": "YKlA__ZeDJap",
        "colab_type": "code",
        "colab": {}
      },
      "source": [
        "exp_dataset = ExpressionDataset(EXP_IMG_DIR, EXP_LG_DIR)"
      ],
      "execution_count": 0,
      "outputs": []
    },
    {
      "cell_type": "markdown",
      "metadata": {
        "colab_type": "text",
        "id": "hUl4J6LIcleR"
      },
      "source": [
        "Getting a feel for the dataset"
      ]
    },
    {
      "cell_type": "code",
      "metadata": {
        "colab_type": "code",
        "id": "kK4i4fd5c4gs",
        "colab": {}
      },
      "source": [
        "random_index = np.random.choice(len(exp_dataset))\n",
        "sample_img, sample_img_symbols = exp_dataset[random_index]\n",
        "_ = plt.imshow(sample_img, cmap='Greys_r')\n",
        "print(f'Symbols: {sample_img_symbols}')\n",
        "print(f'Image dimensions: {sample_img.size}')"
      ],
      "execution_count": 0,
      "outputs": []
    },
    {
      "cell_type": "code",
      "metadata": {
        "id": "eP473eFydVkU",
        "colab_type": "code",
        "colab": {}
      },
      "source": [
        "print(f'Number of images in dataset: {len(exp_dataset)}')"
      ],
      "execution_count": 0,
      "outputs": []
    },
    {
      "cell_type": "markdown",
      "metadata": {
        "colab_type": "text",
        "id": "QDKvB4QUV1ki"
      },
      "source": [
        "# Baseline 1\n",
        "\n",
        "To establish a baseline for the classification task, we shall develop a rudimentary model that segments each image of a mathematical expression into individual symbols deterministically by using rows and columns of entirely white pixels as the edges of a bounding. These segmented images (ideally) consisting of a single symbol are fed to a Softmax classifer that has been trained on the atomic symbols dataset for predictions."
      ]
    },
    {
      "cell_type": "markdown",
      "metadata": {
        "colab_type": "text",
        "id": "rORCwYMiV1ks"
      },
      "source": [
        "Training a Softmax classifier on the raw pixels of the atomic symbols dataset"
      ]
    },
    {
      "cell_type": "code",
      "metadata": {
        "id": "06JNH2qNXqZz",
        "colab_type": "code",
        "colab": {}
      },
      "source": [
        "test_train_split = [0.8, 0.2]\n",
        "assert(np.sum(test_train_split) == 1.0)\n",
        "\n",
        "split_lengths = np.round(np.multiply(test_train_split, len(symbol_dataset)))\n",
        "split_lengths = split_lengths.astype(int)\n",
        "assert(np.sum(split_lengths) == len(symbol_dataset))\n",
        "\n",
        "train_set, test_set = utils.data.random_split(symbol_dataset, split_lengths)\n",
        "train_loader = utils.data.DataLoader(train_set, batch_size=128, shuffle=True, num_workers=8)\n",
        "test_loader = utils.data.DataLoader(test_set, batch_size=128, shuffle=True, num_workers=8)"
      ],
      "execution_count": 0,
      "outputs": []
    },
    {
      "cell_type": "code",
      "metadata": {
        "id": "OGDwgutkYjrR",
        "colab_type": "code",
        "colab": {}
      },
      "source": [
        "model = linear_model.SGDClassifier(loss='log', alpha=1e-3, n_jobs=-1)"
      ],
      "execution_count": 0,
      "outputs": []
    },
    {
      "cell_type": "code",
      "metadata": {
        "id": "N8V-LHFiX8wN",
        "colab_type": "code",
        "outputId": "bf1e078c-5ffa-4eb1-f3eb-e2c77caaf735",
        "colab": {
          "base_uri": "https://localhost:8080/",
          "height": 425
        }
      },
      "source": [
        "image_dims = symbol_dataset[0][0].size()\n",
        "for i, (inputs, labels) in enumerate(train_loader):\n",
        "    X = np.asarray(inputs).reshape((-1, np.prod(image_dims)))\n",
        "    model.partial_fit(X, labels, classes=list(symbol_dataset.class_to_idx.values()))\n",
        "\n",
        "    if i % 100 == 99: print(f'{i+1} batches seen.')\n",
        "\n",
        "print('Finished Training')"
      ],
      "execution_count": 0,
      "outputs": [
        {
          "output_type": "stream",
          "text": [
            "100 batches seen.\n",
            "200 batches seen.\n",
            "300 batches seen.\n",
            "400 batches seen.\n",
            "500 batches seen.\n",
            "600 batches seen.\n",
            "700 batches seen.\n",
            "800 batches seen.\n",
            "900 batches seen.\n",
            "1000 batches seen.\n",
            "1100 batches seen.\n",
            "1200 batches seen.\n",
            "1300 batches seen.\n",
            "1400 batches seen.\n",
            "1500 batches seen.\n",
            "1600 batches seen.\n",
            "1700 batches seen.\n",
            "1800 batches seen.\n",
            "1900 batches seen.\n",
            "2000 batches seen.\n",
            "2100 batches seen.\n",
            "2200 batches seen.\n",
            "2300 batches seen.\n",
            "Finished Training\n"
          ],
          "name": "stdout"
        }
      ]
    },
    {
      "cell_type": "markdown",
      "metadata": {
        "id": "Afqgvit-rJhO",
        "colab_type": "text"
      },
      "source": [
        "Evaluating model"
      ]
    },
    {
      "cell_type": "code",
      "metadata": {
        "id": "2N9T1XXNq7_7",
        "colab_type": "code",
        "outputId": "94547727-351d-4b82-ccbd-beb4ca2360d9",
        "colab": {
          "base_uri": "https://localhost:8080/",
          "height": 34
        }
      },
      "source": [
        "num_correct = 0\n",
        "for (inputs, y_true) in test_loader:\n",
        "  X = np.asarray(inputs).reshape((-1, np.prod(image_dims)))\n",
        "  num_correct += np.sum(y_true.numpy() == model.predict(X))\n",
        "print(f'Accuracy: {num_correct / len(test_loader)}')"
      ],
      "execution_count": 0,
      "outputs": [
        {
          "output_type": "stream",
          "text": [
            "Accuracy: 73.83673469387755\n"
          ],
          "name": "stdout"
        }
      ]
    },
    {
      "cell_type": "markdown",
      "metadata": {
        "id": "0IdyTGwYEC63",
        "colab_type": "text"
      },
      "source": [
        "## Experiment 1\n",
        "\n",
        "Performing image localization using YOLOv3 and image classification using AlexNet as feature extractor."
      ]
    },
    {
      "cell_type": "markdown",
      "metadata": {
        "colab_type": "text",
        "id": "JJS4PJA5dIeu"
      },
      "source": [
        "Using AlexNet as a feature extractor"
      ]
    },
    {
      "cell_type": "code",
      "metadata": {
        "colab_type": "code",
        "id": "Yd2z78tB6sW7",
        "colab": {
          "base_uri": "https://localhost:8080/",
          "height": 748
        },
        "outputId": "2416a3fc-2076-4ea8-aece-6c432b7300f4"
      },
      "source": [
        "model_ft = models.vgg11_bn(pretrained=True)\n",
        "\n",
        "for param in model_ft.parameters():\n",
        "  param.requires_grad = False\n",
        "num_features = model_ft.classifier[6].in_features\n",
        "model_ft.classifier[6] = nn.Linear(num_features, len(symbol_dataset.classes))\n",
        "\n",
        "device = torch.device(\"cuda:0\" if torch.cuda.is_available() else \"cpu\")\n",
        "model_ft = model_ft.to(device)\n",
        "\n",
        "print(model_ft)\n",
        "\n",
        "params_to_update = [param for param in model_ft.parameters() if param.requires_grad]\n",
        "optimizer_ft = optim.Adam(params_to_update, lr=1e-3)\n",
        "loss_func = nn.CrossEntropyLoss()"
      ],
      "execution_count": 11,
      "outputs": [
        {
          "output_type": "stream",
          "text": [
            "VGG(\n",
            "  (features): Sequential(\n",
            "    (0): Conv2d(3, 64, kernel_size=(3, 3), stride=(1, 1), padding=(1, 1))\n",
            "    (1): BatchNorm2d(64, eps=1e-05, momentum=0.1, affine=True, track_running_stats=True)\n",
            "    (2): ReLU(inplace=True)\n",
            "    (3): MaxPool2d(kernel_size=2, stride=2, padding=0, dilation=1, ceil_mode=False)\n",
            "    (4): Conv2d(64, 128, kernel_size=(3, 3), stride=(1, 1), padding=(1, 1))\n",
            "    (5): BatchNorm2d(128, eps=1e-05, momentum=0.1, affine=True, track_running_stats=True)\n",
            "    (6): ReLU(inplace=True)\n",
            "    (7): MaxPool2d(kernel_size=2, stride=2, padding=0, dilation=1, ceil_mode=False)\n",
            "    (8): Conv2d(128, 256, kernel_size=(3, 3), stride=(1, 1), padding=(1, 1))\n",
            "    (9): BatchNorm2d(256, eps=1e-05, momentum=0.1, affine=True, track_running_stats=True)\n",
            "    (10): ReLU(inplace=True)\n",
            "    (11): Conv2d(256, 256, kernel_size=(3, 3), stride=(1, 1), padding=(1, 1))\n",
            "    (12): BatchNorm2d(256, eps=1e-05, momentum=0.1, affine=True, track_running_stats=True)\n",
            "    (13): ReLU(inplace=True)\n",
            "    (14): MaxPool2d(kernel_size=2, stride=2, padding=0, dilation=1, ceil_mode=False)\n",
            "    (15): Conv2d(256, 512, kernel_size=(3, 3), stride=(1, 1), padding=(1, 1))\n",
            "    (16): BatchNorm2d(512, eps=1e-05, momentum=0.1, affine=True, track_running_stats=True)\n",
            "    (17): ReLU(inplace=True)\n",
            "    (18): Conv2d(512, 512, kernel_size=(3, 3), stride=(1, 1), padding=(1, 1))\n",
            "    (19): BatchNorm2d(512, eps=1e-05, momentum=0.1, affine=True, track_running_stats=True)\n",
            "    (20): ReLU(inplace=True)\n",
            "    (21): MaxPool2d(kernel_size=2, stride=2, padding=0, dilation=1, ceil_mode=False)\n",
            "    (22): Conv2d(512, 512, kernel_size=(3, 3), stride=(1, 1), padding=(1, 1))\n",
            "    (23): BatchNorm2d(512, eps=1e-05, momentum=0.1, affine=True, track_running_stats=True)\n",
            "    (24): ReLU(inplace=True)\n",
            "    (25): Conv2d(512, 512, kernel_size=(3, 3), stride=(1, 1), padding=(1, 1))\n",
            "    (26): BatchNorm2d(512, eps=1e-05, momentum=0.1, affine=True, track_running_stats=True)\n",
            "    (27): ReLU(inplace=True)\n",
            "    (28): MaxPool2d(kernel_size=2, stride=2, padding=0, dilation=1, ceil_mode=False)\n",
            "  )\n",
            "  (avgpool): AdaptiveAvgPool2d(output_size=(7, 7))\n",
            "  (classifier): Sequential(\n",
            "    (0): Linear(in_features=25088, out_features=4096, bias=True)\n",
            "    (1): ReLU(inplace=True)\n",
            "    (2): Dropout(p=0.5, inplace=False)\n",
            "    (3): Linear(in_features=4096, out_features=4096, bias=True)\n",
            "    (4): ReLU(inplace=True)\n",
            "    (5): Dropout(p=0.5, inplace=False)\n",
            "    (6): Linear(in_features=4096, out_features=82, bias=True)\n",
            "  )\n",
            ")\n"
          ],
          "name": "stdout"
        }
      ]
    },
    {
      "cell_type": "markdown",
      "metadata": {
        "colab_type": "text",
        "id": "sm0O-MWgoinN"
      },
      "source": [
        "Perform image transformations so that dataset images fit AlexNet configurations"
      ]
    },
    {
      "cell_type": "code",
      "metadata": {
        "colab_type": "code",
        "id": "0W23g-OloiFg",
        "colab": {}
      },
      "source": [
        "tsfm = transforms.Compose([\n",
        "    transforms.Resize(224),\n",
        "    transforms.ToTensor(),\n",
        "])\n",
        "\n",
        "symbol_dataset = datasets.ImageFolder(ATOMIC_SYMBOL_DATASET_DIR, transform=tsfm)"
      ],
      "execution_count": 0,
      "outputs": []
    },
    {
      "cell_type": "markdown",
      "metadata": {
        "id": "GxbcqLyW4b4_",
        "colab_type": "text"
      },
      "source": [
        "Splitting dataset into train and test sets"
      ]
    },
    {
      "cell_type": "code",
      "metadata": {
        "colab_type": "code",
        "id": "VeC6Dr4LpcsA",
        "colab": {}
      },
      "source": [
        "test_train_split = [0.8, 0.2]\n",
        "assert(np.sum(test_train_split) == 1.0)\n",
        "\n",
        "split_lengths = np.round(np.multiply(test_train_split, len(symbol_dataset)))\n",
        "split_lengths = split_lengths.astype(int)\n",
        "assert(np.sum(split_lengths) == len(symbol_dataset))\n",
        "\n",
        "train_set, test_set = utils.data.random_split(symbol_dataset, split_lengths)\n",
        "train_loader = utils.data.DataLoader(train_set, batch_size=128, shuffle=True, num_workers=4)\n",
        "test_loader = utils.data.DataLoader(test_set, batch_size=128, shuffle=True, num_workers=4)"
      ],
      "execution_count": 0,
      "outputs": []
    },
    {
      "cell_type": "markdown",
      "metadata": {
        "id": "Fp5CuLbB4lyY",
        "colab_type": "text"
      },
      "source": [
        "Training a Softmax Layer with AlexNet features"
      ]
    },
    {
      "cell_type": "code",
      "metadata": {
        "colab_type": "code",
        "id": "CPIOeA9IgrDU",
        "colab": {
          "base_uri": "https://localhost:8080/",
          "height": 816
        },
        "outputId": "d042897d-5ab5-4cd0-c80f-3cc44b025a7f"
      },
      "source": [
        "for epoch in range(2):  # loop over the dataset multiple times\n",
        "\n",
        "    running_loss = 0.0\n",
        "    for i, data in enumerate(train_loader):\n",
        "        # get the inputs; data is a list of [inputs, labels]\n",
        "        inputs, labels = data\n",
        "        inputs, labels = inputs.to(device), labels.to(device)\n",
        "\n",
        "        # zero the parameter gradients\n",
        "        optimizer_ft.zero_grad()\n",
        "\n",
        "        # forward + backward + optimize\n",
        "        outputs = model_ft(inputs)\n",
        "        loss = loss_func(outputs, labels)\n",
        "        loss.backward()\n",
        "        optimizer_ft.step()\n",
        "\n",
        "        # print statistics\n",
        "        running_loss += loss.item()\n",
        "        if i % 100 == 99:    # print every 100 mini-batches\n",
        "            print('[%d, %5d] loss: %.3f' %\n",
        "                  (epoch + 1, i + 1, running_loss / 100))\n",
        "            running_loss = 0.0\n",
        "\n",
        "print('Finished Training')"
      ],
      "execution_count": 14,
      "outputs": [
        {
          "output_type": "stream",
          "text": [
            "[1,   100] loss: 1.922\n",
            "[1,   200] loss: 1.188\n",
            "[1,   300] loss: 1.050\n",
            "[1,   400] loss: 0.970\n",
            "[1,   500] loss: 0.901\n",
            "[1,   600] loss: 0.888\n",
            "[1,   700] loss: 0.861\n",
            "[1,   800] loss: 0.834\n",
            "[1,   900] loss: 0.816\n",
            "[1,  1000] loss: 0.778\n",
            "[1,  1100] loss: 0.778\n",
            "[1,  1200] loss: 0.769\n",
            "[1,  1300] loss: 0.788\n",
            "[1,  1400] loss: 0.766\n",
            "[1,  1500] loss: 0.760\n",
            "[1,  1600] loss: 0.749\n",
            "[1,  1700] loss: 0.763\n",
            "[1,  1800] loss: 0.737\n",
            "[1,  1900] loss: 0.730\n",
            "[1,  2000] loss: 0.721\n",
            "[1,  2100] loss: 0.748\n",
            "[1,  2200] loss: 0.717\n",
            "[1,  2300] loss: 0.710\n",
            "[2,   100] loss: 0.702\n",
            "[2,   200] loss: 0.697\n",
            "[2,   300] loss: 0.708\n",
            "[2,   400] loss: 0.692\n",
            "[2,   500] loss: 0.695\n",
            "[2,   600] loss: 0.701\n",
            "[2,   700] loss: 0.680\n",
            "[2,   800] loss: 0.692\n",
            "[2,   900] loss: 0.693\n",
            "[2,  1000] loss: 0.703\n",
            "[2,  1100] loss: 0.691\n",
            "[2,  1200] loss: 0.690\n",
            "[2,  1300] loss: 0.690\n",
            "[2,  1400] loss: 0.683\n",
            "[2,  1500] loss: 0.688\n",
            "[2,  1600] loss: 0.686\n",
            "[2,  1700] loss: 0.692\n",
            "[2,  1800] loss: 0.663\n",
            "[2,  1900] loss: 0.669\n",
            "[2,  2000] loss: 0.665\n",
            "[2,  2100] loss: 0.662\n",
            "[2,  2200] loss: 0.678\n",
            "[2,  2300] loss: 0.672\n",
            "Finished Training\n"
          ],
          "name": "stdout"
        }
      ]
    },
    {
      "cell_type": "markdown",
      "metadata": {
        "id": "6Lj42dFowT35",
        "colab_type": "text"
      },
      "source": [
        "Evaluating the model accuracy"
      ]
    },
    {
      "cell_type": "code",
      "metadata": {
        "colab_type": "code",
        "id": "qSCCRdEWmT-D",
        "colab": {
          "base_uri": "https://localhost:8080/",
          "height": 34
        },
        "outputId": "f5679d88-7be7-4b1f-d4ec-87a02e42dfd5"
      },
      "source": [
        "correct = 0\n",
        "total = 0\n",
        "with torch.no_grad():\n",
        "    for data in test_loader:\n",
        "        images, labels = data\n",
        "        images, labels = images.cuda(), labels.cuda()\n",
        "        outputs = model_ft(images)\n",
        "        _, predicted = torch.max(outputs.data, 1)\n",
        "        total += labels.size(0)\n",
        "        correct += (predicted == labels).sum().item()\n",
        "\n",
        "print('Accuracy of the network on the test images: %d %%' % \n",
        "        (100 * correct / total)\n",
        "     )"
      ],
      "execution_count": 15,
      "outputs": [
        {
          "output_type": "stream",
          "text": [
            "Accuracy of the network on the test images: 79 %\n"
          ],
          "name": "stdout"
        }
      ]
    },
    {
      "cell_type": "code",
      "metadata": {
        "id": "0PM-U1iqwcxd",
        "colab_type": "code",
        "colab": {}
      },
      "source": [
        ""
      ],
      "execution_count": 0,
      "outputs": []
    }
  ]
}